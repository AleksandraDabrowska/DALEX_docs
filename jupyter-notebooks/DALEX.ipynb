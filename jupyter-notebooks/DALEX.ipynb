{
 "cells": [
  {
   "cell_type": "markdown",
   "metadata": {},
   "source": [
    "# DALEX: Descriptive mAchine Learning EXplanations"
   ]
  },
  {
   "cell_type": "markdown",
   "metadata": {},
   "source": [
    "Machine Learning (ML) models are widely used and have various applications in classification or regression. Models created with boosting, bagging, stacking or similar techniques are often used due to their high performance, but such black-box models usually lack of interpretability. `DALEX` package contains various explainers that help to understand the link between input variables and model output. The `single_variable()` explainer extracts conditional response of a model as a function of a single selected variable. It is a wrapper over packages `pdp` and `ALEPlot`. The `single_prediction()` explainer attributes arts of model prediction to articular variables used in the model. It is a wrapper over `breakDown` package. The `variable_dropout()` explainer assess variable importance based on consecutive permutations. All these explainers can be plotted with generic `plot()` function and compared across different models.\n",
    "\n",
    "This notebook shows how to use the `DALEX` package to explain machine learning models.\n",
    "\n",
    "If you want to find more details and methodology, see: [A gentle introduction to DALEX with examples](https://pbiecek.github.io/DALEX_docs/)."
   ]
  },
  {
   "cell_type": "markdown",
   "metadata": {},
   "source": [
    "### Use case: Regression. Apartment prices in Warsaw\n",
    "To illustrate applications of DALEX to regression problems we will use an artificial dataset apartments available in the DALEX package. Our goal is to predict the price per square meter of an apartment based on selected features such as construction year, surface, floor, number of rooms, district. It should be noted that four of these variables are continuous while the fifth one is a categorical one. Prices are given in Euro."
   ]
  },
  {
   "cell_type": "code",
   "execution_count": null,
   "metadata": {},
   "outputs": [],
   "source": [
    "library(DALEX)\n",
    "head(apartments)"
   ]
  },
  {
   "cell_type": "markdown",
   "metadata": {},
   "source": [
    "The first model is based on linear regression. It will be a simple model without any feature engineering."
   ]
  },
  {
   "cell_type": "code",
   "execution_count": null,
   "metadata": {},
   "outputs": [],
   "source": [
    "apartments_lm_model <- lm(m2.price ~ construction.year + surface + floor +\n",
    "                         no.rooms + district, data = apartments)\n",
    "summary(apartments_lm_model)"
   ]
  },
  {
   "cell_type": "markdown",
   "metadata": {},
   "source": [
    "The second model is based on the random forest. It’s a very elastic out-of-the-box model."
   ]
  },
  {
   "cell_type": "code",
   "execution_count": null,
   "metadata": {},
   "outputs": [],
   "source": [
    "library(\"randomForest\")\n",
    "set.seed(59)\n",
    "\n",
    "apartments_rf_model <- randomForest(m2.price ~ construction.year + surface + floor +\n",
    "                      no.rooms + district, data = apartments)\n",
    "apartments_rf_model"
   ]
  },
  {
   "cell_type": "markdown",
   "metadata": {},
   "source": [
    "We have also another apartmentsTest dataset that can be used for validation of the model. Below you may see the mean square error on the basis of validation data calculated for both models"
   ]
  },
  {
   "cell_type": "code",
   "execution_count": null,
   "metadata": {},
   "outputs": [],
   "source": [
    "predicted_mi2_lm <- predict(apartments_lm_model, apartmentsTest)\n",
    "sqrt(mean((predicted_mi2_lm - apartmentsTest$m2.price)^2))"
   ]
  },
  {
   "cell_type": "code",
   "execution_count": null,
   "metadata": {},
   "outputs": [],
   "source": [
    "predicted_mi2_rf <- predict(apartments_rf_model, apartmentsTest)\n",
    "sqrt(mean((predicted_mi2_rf - apartmentsTest$m2.price)^2))"
   ]
  },
  {
   "cell_type": "markdown",
   "metadata": {},
   "source": [
    "These two models have very similar performance! Which one should be used?"
   ]
  },
  {
   "cell_type": "markdown",
   "metadata": {},
   "source": [
    "## Model understanding\n",
    "Now we introduce three groups of explainers that can be used to boost our understanding of black-box models.\n",
    "\n",
    "First we need to prepare wrappers for these models. They are in `explainer_lm` and `explainer_rf` objects."
   ]
  },
  {
   "cell_type": "code",
   "execution_count": null,
   "metadata": {},
   "outputs": [],
   "source": [
    "explainer_lm <- explain(apartments_lm_model,\n",
    "                       data = apartmentsTest[,2:6], y = apartmentsTest$m2.price)\n",
    "\n",
    "explainer_rf <- explain(apartments_rf_model,\n",
    "                       data = apartmentsTest[,2:6], y = apartmentsTest$m2.price)"
   ]
  },
  {
   "cell_type": "markdown",
   "metadata": {},
   "source": [
    "### Model performance\n",
    "Function `model_performance()` calculates predictions and residuals for validation dataset apartmentsTest.\n",
    "\n",
    "Generic `function print()` returns quantiles for residuals."
   ]
  },
  {
   "cell_type": "code",
   "execution_count": null,
   "metadata": {},
   "outputs": [],
   "source": [
    "mp_lm <- model_performance(explainer_lm)\n",
    "mp_lm"
   ]
  },
  {
   "cell_type": "code",
   "execution_count": null,
   "metadata": {},
   "outputs": [],
   "source": [
    "mp_rf <- model_performance(explainer_rf)\n",
    "mp_rf"
   ]
  },
  {
   "cell_type": "markdown",
   "metadata": {},
   "source": [
    "The generic `plot()` function shows reversed empirical cumulative distribution function for absolute values from residuals. This function presents a fraction of residuals larger than x. "
   ]
  },
  {
   "cell_type": "code",
   "execution_count": null,
   "metadata": {},
   "outputs": [],
   "source": [
    "plot(mp_lm, mp_rf)"
   ]
  },
  {
   "cell_type": "markdown",
   "metadata": {},
   "source": [
    "The plot above shows that majority of residuals for the random forest is smaller than residuals for the linear model, yet the small fraction of very large residuals affects the root mean square."
   ]
  },
  {
   "cell_type": "markdown",
   "metadata": {},
   "source": [
    "Use the `geom = \"boxplot\"` parameter for the generic `plot()` function to get an alternative comparison of residuals. The red dot stands for the root mean square."
   ]
  },
  {
   "cell_type": "code",
   "execution_count": null,
   "metadata": {},
   "outputs": [],
   "source": [
    "plot(mp_lm, mp_rf, geom = \"boxplot\")"
   ]
  },
  {
   "cell_type": "markdown",
   "metadata": {},
   "source": [
    "### Feature importance\n",
    "Model agnostic variable importance is calculated by means of permutations. We simply substract the loss function calculated for validation dataset with permuted values for a single variable from the loss function calculated for validation dataset. \n",
    "\n",
    "This method is implemented in the `variable_importance()` function."
   ]
  },
  {
   "cell_type": "code",
   "execution_count": null,
   "metadata": {},
   "outputs": [],
   "source": [
    "vi_rf <- variable_importance(explainer_rf, loss_function = loss_root_mean_square)\n",
    "vi_rf"
   ]
  },
  {
   "cell_type": "code",
   "execution_count": null,
   "metadata": {},
   "outputs": [],
   "source": [
    "vi_lm <- variable_importance(explainer_lm, loss_function = loss_root_mean_square)\n",
    "vi_lm"
   ]
  },
  {
   "cell_type": "markdown",
   "metadata": {},
   "source": [
    "It is much easier to compare both models when these values are plotted close to each other. The generic `plot()` function may handle both models."
   ]
  },
  {
   "cell_type": "code",
   "execution_count": null,
   "metadata": {},
   "outputs": [],
   "source": [
    "plot(vi_lm, vi_rf)"
   ]
  },
  {
   "cell_type": "markdown",
   "metadata": {},
   "source": [
    "### Variable response\n",
    "Explainers presented in this section are designed to better understand the relation between a variable and a model output.\n",
    "\n",
    "The variable `construction.year` is interesting as it is important for the random forest model `apartments_rf_model` but not for the linear model `apartments_lm_model`. Let’s see the relation between the variable and the model output."
   ]
  },
  {
   "cell_type": "markdown",
   "metadata": {},
   "source": [
    "#### Partial Dependence Plot\n",
    "We can use PDP plots to compare two or more models. Below we plot PDP for the linear model against the random forest model.\n",
    "\n",
    "Below we use `variable_response()` from `DALEX`, which calls `pdp::partial` function to calculate PDP response."
   ]
  },
  {
   "cell_type": "code",
   "execution_count": null,
   "metadata": {},
   "outputs": [],
   "source": [
    "sv_rf  <- single_variable(explainer_rf, variable =  \"construction.year\", type = \"pdp\")\n",
    "sv_lm  <- single_variable(explainer_lm, variable =  \"construction.year\", type = \"pdp\")\n",
    "plot(sv_rf, sv_lm)"
   ]
  },
  {
   "cell_type": "markdown",
   "metadata": {},
   "source": [
    "It looks like the random forest captures the non-linear relation that cannot be captured by linear models."
   ]
  },
  {
   "cell_type": "markdown",
   "metadata": {},
   "source": [
    "#### Accumulated Local Effects Plot\n",
    "We can also use `single_variable()` function to call `ALEPlot::ALEPlot()` function to calculate the ALE curve for the variable `construction.year`."
   ]
  },
  {
   "cell_type": "code",
   "execution_count": null,
   "metadata": {},
   "outputs": [],
   "source": [
    "sva_rf  <- single_variable(explainer_rf, variable = \"construction.year\", type = \"ale\")\n",
    "sva_lm  <- single_variable(explainer_lm, variable = \"construction.year\", type = \"ale\")\n",
    "plot(sva_rf, sva_lm)"
   ]
  },
  {
   "cell_type": "markdown",
   "metadata": {},
   "source": [
    "Results for PDP and ALEP are very similar except that effects for ALEP are centered around 0."
   ]
  },
  {
   "cell_type": "markdown",
   "metadata": {},
   "source": [
    "#### Merging Path Plot\n",
    "An interesting tool that helps to understand what happens with factor variables is a Merging Path Plot for a factor variable district."
   ]
  },
  {
   "cell_type": "code",
   "execution_count": null,
   "metadata": {},
   "outputs": [],
   "source": [
    "svd_rf  <- single_variable(explainer_rf, variable = \"district\", type = \"factor\")\n",
    "svd_lm  <- single_variable(explainer_lm, variable = \"district\", type = \"factor\")\n",
    "\n",
    "plot(svd_rf, svd_lm)"
   ]
  },
  {
   "cell_type": "markdown",
   "metadata": {},
   "source": [
    "The three clusters are: the city center (Srodmiescie), districts well communicated with city center (Ochota, Mokotow, Zoliborz) and other districts closer to city boundaries.\n",
    "\n",
    "Factor variables are handled very differently by random forest and linear model, yet despite these differences both models result in very similar plots."
   ]
  },
  {
   "cell_type": "markdown",
   "metadata": {},
   "source": [
    "### Prediction understanding"
   ]
  },
  {
   "cell_type": "markdown",
   "metadata": {},
   "source": [
    "#### Outlier detection\n",
    "Function `model_performance()` may be used to identify outliers. \n",
    "\n",
    "As you may remember, residuals for random forest were smaller in general, except for a small fraction of very high residuals.\n",
    "\n",
    "Let’s use the `model_performance()` function to extract and plot residuals against the observed true values."
   ]
  },
  {
   "cell_type": "code",
   "execution_count": null,
   "metadata": {},
   "outputs": [],
   "source": [
    "mp_rf <- model_performance(explainer_rf)\n",
    "\n",
    "library(ggplot2)\n",
    "ggplot(mp_rf, aes(observed, diff)) + geom_point() +\n",
    "        xlab(\"Observed\") + ylab(\"Predicted - Observed\") +\n",
    "        ggtitle(\"Diagnostic plot for the random forest model\") + theme_mi2()"
   ]
  },
  {
   "cell_type": "markdown",
   "metadata": {},
   "source": [
    "Lets see which variables stand behind the model prediction for an apartment with largest residual."
   ]
  },
  {
   "cell_type": "code",
   "execution_count": null,
   "metadata": {},
   "outputs": [],
   "source": [
    "which.min(mp_rf$diff)"
   ]
  },
  {
   "cell_type": "markdown",
   "metadata": {},
   "source": [
    "Observation with the largest residual in the random forest model."
   ]
  },
  {
   "cell_type": "code",
   "execution_count": null,
   "metadata": {},
   "outputs": [],
   "source": [
    "new_apartment <- apartmentsTest[which.min(mp_rf$diff), ]\n",
    "new_apartment"
   ]
  },
  {
   "cell_type": "markdown",
   "metadata": {},
   "source": [
    "Function `single_prediction()` generates variable attributions for selected prediction. The generic `plot()` function shows these attributions."
   ]
  },
  {
   "cell_type": "code",
   "execution_count": null,
   "metadata": {},
   "outputs": [],
   "source": [
    "new_apartment_rf <- single_prediction(explainer_rf, observation = new_apartment)\n",
    "plot(new_apartment_rf)"
   ]
  },
  {
   "cell_type": "markdown",
   "metadata": {},
   "source": [
    "Plots confirm that all variables (district, surface, floor, no.rooms) have positive effects as expected. Still, these effects are too small while the final prediction `3505 + 1881` is much smaller than the real price of a square meter `6679`. Let’s see how the linear model behaves for this observation."
   ]
  },
  {
   "cell_type": "code",
   "execution_count": null,
   "metadata": {},
   "outputs": [],
   "source": [
    "new_apartment_lm <- single_prediction(explainer_lm, observation = new_apartment)\n",
    "plot(new_apartment_lm, new_apartment_rf)"
   ]
  },
  {
   "cell_type": "markdown",
   "metadata": {},
   "source": [
    "Prediction for linear model is much closer to the real price of square meter for this apartment."
   ]
  }
 ],
 "metadata": {
  "kernelspec": {
   "display_name": "R",
   "language": "R",
   "name": "ir"
  },
  "language_info": {
   "codemirror_mode": "r",
   "file_extension": ".r",
   "mimetype": "text/x-r-source",
   "name": "R",
   "pygments_lexer": "r",
   "version": "3.4.4"
  }
 },
 "nbformat": 4,
 "nbformat_minor": 2
}
